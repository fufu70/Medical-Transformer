{
 "cells": [
  {
   "cell_type": "code",
   "execution_count": 2,
   "id": "efb76ddd",
   "metadata": {},
   "outputs": [
    {
     "name": "stdout",
     "output_type": "stream",
     "text": [
      "\u001b[33mWARNING: The directory '/home/passlab/.cache/pip' or its parent directory is not owned or is not writable by the current user. The cache has been disabled. Check the permissions and owner of that directory. If executing pip with sudo, you should use sudo's -H flag.\u001b[0m\n",
      "Collecting gdown\n",
      "  Downloading gdown-3.13.0.tar.gz (9.3 kB)\n",
      "  Installing build dependencies ... \u001b[?25ldone\n",
      "\u001b[?25h  Getting requirements to build wheel ... \u001b[?25ldone\n",
      "\u001b[?25h    Preparing wheel metadata ... \u001b[?25ldone\n",
      "\u001b[?25hCollecting tqdm\n",
      "  Downloading tqdm-4.61.1-py2.py3-none-any.whl (75 kB)\n",
      "\u001b[K     |################################| 75 kB 2.8 MB/s eta 0:00:01\n",
      "\u001b[?25hCollecting filelock\n",
      "  Downloading filelock-3.0.12-py3-none-any.whl (7.6 kB)\n",
      "Collecting requests[socks]>=2.12.0\n",
      "  Downloading requests-2.25.1-py2.py3-none-any.whl (61 kB)\n",
      "\u001b[K     |################################| 61 kB 3.6 MB/s eta 0:00:011\n",
      "\u001b[?25hRequirement already satisfied: six in /home/passlab/.local/lib/python3.6/site-packages (from gdown) (1.16.0)\n",
      "Collecting urllib3<1.27,>=1.21.1\n",
      "  Downloading urllib3-1.26.5-py2.py3-none-any.whl (138 kB)\n",
      "\u001b[K     |################################| 138 kB 4.1 MB/s eta 0:00:01\n",
      "\u001b[?25hCollecting certifi>=2017.4.17\n",
      "  Downloading certifi-2021.5.30-py2.py3-none-any.whl (145 kB)\n",
      "\u001b[K     |################################| 145 kB 4.0 MB/s eta 0:00:01\n",
      "\u001b[?25hCollecting idna<3,>=2.5\n",
      "  Downloading idna-2.10-py2.py3-none-any.whl (58 kB)\n",
      "\u001b[K     |################################| 58 kB 6.5 MB/s eta 0:00:011\n",
      "\u001b[?25hCollecting chardet<5,>=3.0.2\n",
      "  Downloading chardet-4.0.0-py2.py3-none-any.whl (178 kB)\n",
      "\u001b[K     |################################| 178 kB 4.4 MB/s eta 0:00:01\n",
      "\u001b[?25hCollecting PySocks!=1.5.7,>=1.5.6\n",
      "  Downloading PySocks-1.7.1-py3-none-any.whl (16 kB)\n",
      "Building wheels for collected packages: gdown\n",
      "  Building wheel for gdown (PEP 517) ... \u001b[?25ldone\n",
      "\u001b[?25h  Created wheel for gdown: filename=gdown-3.13.0-py3-none-any.whl size=9034 sha256=fc77cccc75c2d37f5f4f5b40bde3721989b36184832fa4c9b5a7e21bfe7a2008\n",
      "  Stored in directory: /tmp/pip-ephem-wheel-cache-hsf4q3_4/wheels/6a/87/bd/09b16161b149fd6711ac76b5420d78ed58bd6a320e892117c3\n",
      "Successfully built gdown\n",
      "Installing collected packages: urllib3, idna, chardet, certifi, requests, PySocks, tqdm, filelock, gdown\n",
      "Successfully installed PySocks-1.7.1 certifi-2021.5.30 chardet-4.0.0 filelock-3.0.12 gdown-3.13.0 idna-2.10 requests-2.25.1 tqdm-4.61.1 urllib3-1.26.5\n",
      "\u001b[33mWARNING: Running pip as root will break packages and permissions. You should install packages reliably by using venv: https://pip.pypa.io/warnings/venv\u001b[0m\n"
     ]
    }
   ],
   "source": [
    "!pip3 install gdown"
   ]
  },
  {
   "cell_type": "code",
   "execution_count": 3,
   "id": "e5cf67b8",
   "metadata": {},
   "outputs": [
    {
     "name": "stdout",
     "output_type": "stream",
     "text": [
      "Downloading...\n",
      "From: https://drive.google.com/uc?id=1JZN9Jq9km0rZNiYNEukE_8f0CsSK3Pe4\n",
      "To: /home/passlab/development/Medical-Transformer/MoNuSegTrainingData.zip\n",
      "84.1MB [00:00, 95.0MB/s]\n"
     ]
    }
   ],
   "source": [
    "!gdown --id 1JZN9Jq9km0rZNiYNEukE_8f0CsSK3Pe4"
   ]
  },
  {
   "cell_type": "code",
   "execution_count": 16,
   "id": "29a4d1c0",
   "metadata": {},
   "outputs": [
    {
     "name": "stdout",
     "output_type": "stream",
     "text": [
      "\n",
      "7-Zip [64] 16.02 : Copyright (c) 1999-2016 Igor Pavlov : 2016-05-21\n",
      "p7zip Version 16.02 (locale=C,Utf16=off,HugeFiles=on,64 bits,40 CPUs Intel(R) Xeon(R) Gold 6230N CPU @ 2.30GHz (50657),ASM,AES-NI)\n",
      "\n",
      "Scanning the drive for archives:\n",
      "  0M Sca        1 file, 84126760 bytes (81 MiB)\n",
      "\n",
      "Extracting archive: MoNuSegTrainingData.zip\n",
      "--\n",
      "Path = MoNuSegTrainingData.zip\n",
      "Type = zip\n",
      "Physical Size = 84126760\n",
      "\n",
      "     16% 11 - MoNuSegTrainingData/Annotations/TCGA-AR-A1AS-01Z-00-DX1.xm                                                                     37% 23 - MoNuSegTrainingData/Annotations/TCGA-G9-6356-01Z-00-DX1.xm                                                                     57% 29 - MoNuSegTrainingData/Annotations/TCGA-KB-A93J-01A-01-TS1.xm                                                                     73% 36 - MoNuSegTrainingData/Tissue Images/TCGA-38-6178-01Z-00-DX1.ti                                                                       82% 45 - MoNuSegTrainingData/Tissue Images/TCGA-B0-5710-01Z-00-DX1.ti                                                                       92% 55 - MoNuSegTrainingData/Tissue Images/TCGA-G9-6362-01Z-00-DX1.ti                                                                      Everything is Ok\n",
      "\n",
      "Folders: 3\n",
      "Files: 60\n",
      "Size:       234736249\n",
      "Compressed: 84126760\n"
     ]
    }
   ],
   "source": [
    "!7z x MoNuSegTrainingData.zip"
   ]
  },
  {
   "cell_type": "code",
   "execution_count": 17,
   "id": "748e8aed",
   "metadata": {},
   "outputs": [
    {
     "name": "stdout",
     "output_type": "stream",
     "text": [
      "Downloading...\n",
      "From: https://drive.google.com/uc?id=1NKkSQ5T0ZNQ8aUhh0a8Dt2YKYCQXIViw\n",
      "To: /home/passlab/development/Medical-Transformer/MoNuSegTestData.zip\n",
      "41.6MB [00:00, 83.5MB/s]\n"
     ]
    }
   ],
   "source": [
    "!gdown --id 1NKkSQ5T0ZNQ8aUhh0a8Dt2YKYCQXIViw"
   ]
  },
  {
   "cell_type": "code",
   "execution_count": 18,
   "id": "0845e795",
   "metadata": {},
   "outputs": [
    {
     "name": "stdout",
     "output_type": "stream",
     "text": [
      "\n",
      "7-Zip [64] 16.02 : Copyright (c) 1999-2016 Igor Pavlov : 2016-05-21\n",
      "p7zip Version 16.02 (locale=C,Utf16=off,HugeFiles=on,64 bits,40 CPUs Intel(R) Xeon(R) Gold 6230N CPU @ 2.30GHz (50657),ASM,AES-NI)\n",
      "\n",
      "Scanning the drive for archives:\n",
      "  0M Sca        1 file, 41620178 bytes (40 MiB)\n",
      "\n",
      "Extracting archive: MoNuSegTestData.zip\n",
      "--\n",
      "Path = MoNuSegTestData.zip\n",
      "Type = zip\n",
      "Physical Size = 41620178\n",
      "\n",
      "     32% 9 - MoNuSegTestData/TCGA-AC-A2FO-01A-01-TS1.t                                                   74% 21 - MoNuSegTestData/TCGA-HC-7209-01A-01-TS1.ti                                                    Everything is Ok\n",
      "\n",
      "Folders: 1\n",
      "Files: 28\n",
      "Size:       60571259\n",
      "Compressed: 41620178\n"
     ]
    }
   ],
   "source": [
    "!7z x MoNuSegTestData.zip"
   ]
  }
 ],
 "metadata": {
  "kernelspec": {
   "display_name": "Python 3",
   "language": "python",
   "name": "python3"
  },
  "language_info": {
   "codemirror_mode": {
    "name": "ipython",
    "version": 3
   },
   "file_extension": ".py",
   "mimetype": "text/x-python",
   "name": "python",
   "nbconvert_exporter": "python",
   "pygments_lexer": "ipython3",
   "version": "3.6.9"
  }
 },
 "nbformat": 4,
 "nbformat_minor": 5
}
